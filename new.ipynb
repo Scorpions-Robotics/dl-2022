{
 "cells": [
  {
   "cell_type": "markdown",
   "metadata": {},
   "source": [
    "# Setup Environment"
   ]
  },
  {
   "cell_type": "code",
   "execution_count": null,
   "metadata": {
    "execution": {
     "iopub.execute_input": "2022-09-08T13:26:25.784060Z",
     "iopub.status.busy": "2022-09-08T13:26:25.783737Z",
     "iopub.status.idle": "2022-09-08T13:26:36.501602Z",
     "shell.execute_reply": "2022-09-08T13:26:36.500685Z",
     "shell.execute_reply.started": "2022-09-08T13:26:25.784004Z"
    },
    "tags": []
   },
   "outputs": [],
   "source": [
    "!cd /opt && wget -O conda.sh https://repo.anaconda.com/miniconda/Miniconda3-latest-Linux-x86_64.sh && bash conda.sh -b -f -u && echo PATH=\"/root/miniconda3/bin:$PATH\" > /root/.bashrc"
   ]
  },
  {
   "cell_type": "code",
   "execution_count": null,
   "metadata": {
    "execution": {
     "iopub.execute_input": "2022-09-08T13:29:16.892315Z",
     "iopub.status.busy": "2022-09-08T13:29:16.891872Z",
     "iopub.status.idle": "2022-09-08T13:29:17.543223Z",
     "shell.execute_reply": "2022-09-08T13:29:17.542415Z",
     "shell.execute_reply.started": "2022-09-08T13:29:16.892288Z"
    }
   },
   "outputs": [],
   "source": [
    "!source /root/.bashrc && conda init bash"
   ]
  },
  {
   "cell_type": "code",
   "execution_count": null,
   "metadata": {},
   "outputs": [],
   "source": [
    "!source /root/.bashrc && conda update --all"
   ]
  },
  {
   "cell_type": "code",
   "execution_count": null,
   "metadata": {
    "execution": {
     "iopub.execute_input": "2022-09-08T13:38:08.774541Z",
     "iopub.status.busy": "2022-09-08T13:38:08.773751Z",
     "iopub.status.idle": "2022-09-08T13:41:23.200964Z",
     "shell.execute_reply": "2022-09-08T13:41:23.200352Z",
     "shell.execute_reply.started": "2022-09-08T13:38:08.774501Z"
    },
    "tags": []
   },
   "outputs": [],
   "source": [
    "!source /root/.bashrc && conda create --name tf python=3.9 -y || conda activate tf && conda install -c conda-forge cudatoolkit=11.2 cudnn=8.4.1.50 -y && export LD_LIBRARY_PATH=$LD_LIBRARY_PATH:$CONDA_PREFIX/lib/ && mkdir -p $CONDA_PREFIX/etc/conda/activate.d || echo 'export LD_LIBRARY_PATH=$LD_LIBRARY_PATH:$CONDA_PREFIX/lib/' > $CONDA_PREFIX/etc/conda/activate.d/env_vars.sh"
   ]
  },
  {
   "cell_type": "code",
   "execution_count": null,
   "metadata": {
    "execution": {
     "iopub.execute_input": "2022-09-08T13:41:46.620840Z",
     "iopub.status.busy": "2022-09-08T13:41:46.620560Z",
     "iopub.status.idle": "2022-09-08T13:42:56.877764Z",
     "shell.execute_reply": "2022-09-08T13:42:56.877062Z",
     "shell.execute_reply.started": "2022-09-08T13:41:46.620814Z"
    }
   },
   "outputs": [],
   "source": [
    "!source /root/.bashrc && conda activate tf && sudo apt update && sudo apt upgrade -y && sudo apt install protobuf-compiler python3-dev python3-pip python-is-python3 -y\n",
    "!source /root/.bashrc && conda activate tf && pip install --upgrade tensorflow\n",
    "!source /root/.bashrc && conda activate tf && pip install --upgrade numpy"
   ]
  },
  {
   "cell_type": "code",
   "execution_count": null,
   "metadata": {
    "execution": {
     "iopub.execute_input": "2022-09-08T13:46:06.552155Z",
     "iopub.status.busy": "2022-09-08T13:46:06.551325Z",
     "iopub.status.idle": "2022-09-08T13:46:20.282282Z",
     "shell.execute_reply": "2022-09-08T13:46:20.281528Z",
     "shell.execute_reply.started": "2022-09-08T13:46:06.552126Z"
    }
   },
   "outputs": [],
   "source": [
    "!source /root/.bashrc && conda activate tf && sudo apt install zlib1g && pip install gdown && cd /opt && gdown https://drive.google.com/u/0/uc?id=1gYZCQCzfnNYAzlgEHvsb9LGHN_QF2Q1Y && sudo dpkg -i cudnn-local-repo-ubuntu1804-8.5.0.96_1.0-1_amd64.deb && sudo cp /var/cudnn-local-repo-*/cudnn-local-*-keyring.gpg /usr/share/keyrings/ && sudo apt update"
   ]
  },
  {
   "cell_type": "code",
   "execution_count": null,
   "metadata": {
    "execution": {
     "iopub.execute_input": "2022-09-08T15:31:44.475706Z",
     "iopub.status.busy": "2022-09-08T15:31:44.475024Z",
     "iopub.status.idle": "2022-09-08T15:32:57.297652Z",
     "shell.execute_reply": "2022-09-08T15:32:57.296931Z",
     "shell.execute_reply.started": "2022-09-08T15:31:44.475667Z"
    }
   },
   "outputs": [],
   "source": [
    "!source /root/.bashrc && conda activate tf && pip install gdown && cd /opt && gdown https://drive.google.com/u/0/uc?id=15HZAdhMGHeofGsJFrguiHjNBYI46iyZb && os=\"ubuntu1804\" && tag=\"cuda11.6-trt8.4.3.1-ga-20220813\" && sudo dpkg -i nv-tensorrt-repo-${os}-${tag}_1-1_amd64.deb && sudo apt-key add /var/nv-tensorrt-repo-${os}-${tag}/*.pub && sudo apt update && sudo apt install tensorrt -y && python -m pip install numpy && gdown https://drive.google.com/u/0/uc?id=12HIi2Ny3voCxCvq9PiMjQ5EEk-zp3hYD && tar -xf TensorRT-8.4.3.1.Linux.x86_64-gnu.cuda-11.6.cudnn8.4.tar.gz && cd TensorRT-8.4.3.1/python && pip install tensorrt-8.4.3.1-cp39-none-linux_x86_64.whl && python -m pip install protobuf && sudo apt install uff-converter-tf -y &&  sudo apt install tensorrt-dev=8.4.3.1-1+cuda11.6 -y && sudo apt-mark hold tensorrt-dev"
   ]
  },
  {
   "cell_type": "code",
   "execution_count": null,
   "metadata": {
    "tags": []
   },
   "outputs": [],
   "source": [
    "import os\n",
    "\n",
    "if not os.path.isdir(\"Tensorflow/models\"):\n",
    "    !source /root/.bashrc && conda activate tf && cd Tensorflow && git clone https://github.com/tensorflow/models.git\n",
    "    \n",
    "!source /root/.bashrc && conda activate tf && cd Tensorflow/models/research && protoc object_detection/protos/*.proto --python_out=. && cp object_detection/packages/tf2/setup.py . && python -m pip install ."
   ]
  },
  {
   "cell_type": "code",
   "execution_count": null,
   "metadata": {
    "tags": []
   },
   "outputs": [],
   "source": [
    "WORKSPACE_PATH = \"Tensorflow/workspace\"\n",
    "SCRIPTS_PATH = \"Tensorflow/scripts\"\n",
    "APIMODEL_PATH = \"Tensorflow/models\"\n",
    "ANNOTATION_PATH = f\"{WORKSPACE_PATH}/annotations\"\n",
    "IMAGE_PATH = f\"{WORKSPACE_PATH}/images\"\n",
    "MODEL_PATH = f\"{WORKSPACE_PATH}/models\"\n",
    "PRETRAINED_MODEL_PATH = f\"{WORKSPACE_PATH}/pre-trained-models\"\n",
    "CUSTOM_MODEL_NAME = \"model\"\n",
    "CONFIG_PATH = f\"{MODEL_PATH}/{CUSTOM_MODEL_NAME}/pipeline.config\"\n",
    "CHECKPOINT_PATH = f\"{MODEL_PATH}/{CUSTOM_MODEL_NAME}/checkpoint\"\n"
   ]
  },
  {
   "cell_type": "code",
   "execution_count": null,
   "metadata": {
    "tags": []
   },
   "outputs": [],
   "source": [
    "!source /root/.bashrc && conda activate tf && mkdir {PRETRAINED_MODEL_PATH}/{CUSTOM_MODEL_NAME} || wget -O {PRETRAINED_MODEL_PATH}/{CUSTOM_MODEL_NAME}.tar.gz http://download.tensorflow.org/models/object_detection/tf2/20200711/efficientdet_d1_coco17_tpu-32.tar.gz && tar -xf {PRETRAINED_MODEL_PATH}/{CUSTOM_MODEL_NAME}.tar.gz -C {PRETRAINED_MODEL_PATH}/{CUSTOM_MODEL_NAME} --strip-components 1 && mkdir {MODEL_PATH}/{CUSTOM_MODEL_NAME}\n"
   ]
  },
  {
   "cell_type": "markdown",
   "metadata": {},
   "source": [
    "Copy the appropriate configuration file from ``Tensorflow/models/research/object_detection/configs/tf2/`` to ``Tensorflow/workspace/models/{CUSTOM_MODEL_NAME}/`` as ``pipeline.config``. It is important to copy the configuration file to the correct directory, otherwise the training will fail."
   ]
  },
  {
   "cell_type": "markdown",
   "metadata": {},
   "source": [
    "# 1. Create Label Map and TF Records"
   ]
  },
  {
   "cell_type": "code",
   "execution_count": null,
   "metadata": {
    "execution": {
     "iopub.execute_input": "2022-09-08T15:51:51.773728Z",
     "iopub.status.busy": "2022-09-08T15:51:51.773510Z",
     "iopub.status.idle": "2022-09-08T15:51:52.098274Z",
     "shell.execute_reply": "2022-09-08T15:51:52.097685Z",
     "shell.execute_reply.started": "2022-09-08T15:51:51.773705Z"
    }
   },
   "outputs": [],
   "source": [
    "labels = [{\"name\": \"hoop\", \"id\": 1}]\n",
    "\n",
    "with open(f\"{ANNOTATION_PATH}/label_map.pbtxt\", \"w\") as f:\n",
    "    for label in labels:\n",
    "        f.write(\"item { \\n\")\n",
    "        f.write(f\"\\tname:'{label['name']}'\\n\")\n",
    "        f.write(f\"\\tid:{label['id']}\\n\")\n",
    "        f.write(\"}\\n\")\n"
   ]
  },
  {
   "cell_type": "code",
   "execution_count": null,
   "metadata": {
    "execution": {
     "iopub.execute_input": "2022-09-08T15:52:09.608775Z",
     "iopub.status.busy": "2022-09-08T15:52:09.608600Z",
     "iopub.status.idle": "2022-09-08T15:52:22.439157Z",
     "shell.execute_reply": "2022-09-08T15:52:22.438488Z",
     "shell.execute_reply.started": "2022-09-08T15:52:09.608760Z"
    }
   },
   "outputs": [],
   "source": [
    "!source /root/.bashrc && conda activate tf && python {SCRIPTS_PATH + '/generate_tfrecord.py'} -x {IMAGE_PATH + '/train'} -l {ANNOTATION_PATH + '/label_map.pbtxt'} -o {ANNOTATION_PATH + '/train.record'}\n",
    "!source /root/.bashrc && conda activate tf && python {SCRIPTS_PATH + '/generate_tfrecord.py'} -x{IMAGE_PATH + '/test'} -l {ANNOTATION_PATH + '/label_map.pbtxt'} -o {ANNOTATION_PATH + '/test.record'}"
   ]
  },
  {
   "cell_type": "markdown",
   "metadata": {},
   "source": [
    "# 2. Import Required Libraries"
   ]
  },
  {
   "cell_type": "code",
   "execution_count": null,
   "metadata": {
    "execution": {
     "iopub.execute_input": "2022-09-08T15:52:28.285716Z",
     "iopub.status.busy": "2022-09-08T15:52:28.285515Z",
     "iopub.status.idle": "2022-09-08T15:52:29.966936Z",
     "shell.execute_reply": "2022-09-08T15:52:29.966394Z",
     "shell.execute_reply.started": "2022-09-08T15:52:28.285695Z"
    }
   },
   "outputs": [],
   "source": [
    "import tensorflow as tf\n",
    "from object_detection.utils import config_util\n",
    "from object_detection.protos import pipeline_pb2\n",
    "from google.protobuf import text_format\n"
   ]
  },
  {
   "cell_type": "markdown",
   "metadata": {},
   "source": [
    "# 3. Update the Configuration File"
   ]
  },
  {
   "cell_type": "code",
   "execution_count": null,
   "metadata": {
    "execution": {
     "iopub.execute_input": "2022-09-08T15:54:50.503495Z",
     "iopub.status.busy": "2022-09-08T15:54:50.503080Z",
     "iopub.status.idle": "2022-09-08T15:54:50.537626Z",
     "shell.execute_reply": "2022-09-08T15:54:50.537231Z",
     "shell.execute_reply.started": "2022-09-08T15:54:50.503476Z"
    }
   },
   "outputs": [],
   "source": [
    "config = config_util.get_configs_from_pipeline_file(CONFIG_PATH)\n",
    "pipeline_config = pipeline_pb2.TrainEvalPipelineConfig()\n",
    "with tf.io.gfile.GFile(CONFIG_PATH, \"r\") as f:\n",
    "    proto_str = f.read()\n",
    "    text_format.Merge(proto_str, pipeline_config)\n"
   ]
  },
  {
   "cell_type": "code",
   "execution_count": null,
   "metadata": {
    "execution": {
     "iopub.execute_input": "2022-09-08T15:54:54.208579Z",
     "iopub.status.busy": "2022-09-08T15:54:54.208021Z",
     "iopub.status.idle": "2022-09-08T15:54:54.211988Z",
     "shell.execute_reply": "2022-09-08T15:54:54.211605Z",
     "shell.execute_reply.started": "2022-09-08T15:54:54.208558Z"
    }
   },
   "outputs": [],
   "source": [
    "pipeline_config.model.ssd.num_classes = 1\n",
    "pipeline_config.train_config.batch_size = 16\n",
    "pipeline_config.train_config.fine_tune_checkpoint = (\n",
    "    f\"{PRETRAINED_MODEL_PATH}/{CUSTOM_MODEL_NAME}/checkpoint/ckpt-0\"\n",
    ")\n",
    "pipeline_config.train_config.fine_tune_checkpoint_type = \"detection\"\n",
    "pipeline_config.train_input_reader.label_map_path = f\"{ANNOTATION_PATH}/label_map.pbtxt\"\n",
    "pipeline_config.train_input_reader.tf_record_input_reader.input_path[:] = [\n",
    "    f\"{ANNOTATION_PATH}/train.record\"\n",
    "]\n",
    "pipeline_config.eval_input_reader[\n",
    "    0\n",
    "].label_map_path = f\"{ANNOTATION_PATH}/label_map.pbtxt\"\n",
    "pipeline_config.eval_input_reader[0].tf_record_input_reader.input_path[:] = [\n",
    "    f\"{ANNOTATION_PATH}/test.record\"\n",
    "]\n"
   ]
  },
  {
   "cell_type": "code",
   "execution_count": null,
   "metadata": {
    "execution": {
     "iopub.execute_input": "2022-09-08T15:55:05.680446Z",
     "iopub.status.busy": "2022-09-08T15:55:05.679729Z",
     "iopub.status.idle": "2022-09-08T15:55:05.918951Z",
     "shell.execute_reply": "2022-09-08T15:55:05.918518Z",
     "shell.execute_reply.started": "2022-09-08T15:55:05.680423Z"
    }
   },
   "outputs": [],
   "source": [
    "config_text = text_format.MessageToString(pipeline_config)\n",
    "with tf.io.gfile.GFile(CONFIG_PATH, \"wb\") as f:\n",
    "    f.write(config_text)\n"
   ]
  },
  {
   "cell_type": "markdown",
   "metadata": {},
   "source": [
    "# 4. Train the Model"
   ]
  },
  {
   "cell_type": "code",
   "execution_count": null,
   "metadata": {
    "execution": {
     "iopub.execute_input": "2022-09-07T15:45:54.647456Z",
     "iopub.status.busy": "2022-09-07T15:45:54.647123Z",
     "iopub.status.idle": "2022-09-07T15:45:54.652105Z",
     "shell.execute_reply": "2022-09-07T15:45:54.651405Z",
     "shell.execute_reply.started": "2022-09-07T15:45:54.647432Z"
    }
   },
   "outputs": [],
   "source": [
    "print(\n",
    "    f\"source /root/.bashrc && conda activate tf && python {APIMODEL_PATH}/research/object_detection/model_main_tf2.py --model_dir={MODEL_PATH}/{CUSTOM_MODEL_NAME} --pipeline_config_path={MODEL_PATH}/{CUSTOM_MODEL_NAME}/pipeline.config --num_train_steps=30000\"\n",
    ")\n"
   ]
  }
 ],
 "metadata": {
  "kernelspec": {
   "display_name": "Python 3.10.4 ('base')",
   "language": "python",
   "name": "python3"
  },
  "language_info": {
   "codemirror_mode": {
    "name": "ipython",
    "version": 3
   },
   "file_extension": ".py",
   "mimetype": "text/x-python",
   "name": "python",
   "nbconvert_exporter": "python",
   "pygments_lexer": "ipython3",
   "version": "3.10.4"
  },
  "vscode": {
   "interpreter": {
    "hash": "6e7050dd1756071a800076127fc4a814278e292e1bdcd7f0eea1cdcb7332bee3"
   }
  }
 },
 "nbformat": 4,
 "nbformat_minor": 4
}
