{
  "nbformat": 4,
  "nbformat_minor": 0,
  "metadata": {
    "colab": {
      "name": "train.ipynb",
      "provenance": []
    },
    "kernelspec": {
      "name": "python3",
      "display_name": "Python 3"
    },
    "language_info": {
      "name": "python"
    },
    "accelerator": "TPU",
    "gpuClass": "standard"
  },
  "cells": [
    {
      "cell_type": "markdown",
      "source": [
        "# Prepare Dataset"
      ],
      "metadata": {
        "id": "5ORFW3OkhqbH"
      }
    },
    {
      "cell_type": "markdown",
      "source": [
        "- Use LabelImg to annotate all images and save them to ``train``.\n",
        "- Cut the last 100 images and their xml files and paste them to a folder called ``validate``.\n",
        "- The final tree should look like this:\n",
        "```bash\n",
        "$ tree\n",
        "|   train.ipynb\n",
        "|\n",
        "└───data\n",
        "    ├───train\n",
        "    |    ...\n",
        "    └───validate\n",
        "    |    ...\n",
        "```"
      ],
      "metadata": {
        "id": "CxQWLO_SiY8l"
      }
    },
    {
      "cell_type": "code",
      "source": [],
      "metadata": {
        "id": "RtrdJAe1qqMO"
      },
      "execution_count": null,
      "outputs": []
    }
  ]
}